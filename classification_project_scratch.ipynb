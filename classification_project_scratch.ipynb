{
 "cells": [
  {
   "cell_type": "code",
   "execution_count": null,
   "id": "46179277",
   "metadata": {},
   "outputs": [],
   "source": [
    "#Finding features that don't matter is also important\n",
    "#In final report/Jypyter Notebook, only include final findings\n",
    "#Don't need to explain how the code works in presentation\n",
    "#Explain your reasoning in markdowns\n",
    "#Choose Statistical Test in at least 2 of your 4 visualizations\n",
    "#Make sure you say whe you did with your nulls\n",
    "\n",
    "\n",
    "#What makes who churn\n",
    "#What is the MVP for this?\n",
    "#Research other projects \n",
    "\n",
    "#What percentage of customers have churned?\n"
   ]
  },
  {
   "cell_type": "code",
   "execution_count": null,
   "id": "7476e01d",
   "metadata": {},
   "outputs": [],
   "source": []
  },
  {
   "cell_type": "code",
   "execution_count": null,
   "id": "c4650ab6",
   "metadata": {},
   "outputs": [],
   "source": [
    "\"\"\"Plan:\n",
    "\n",
    "-Review works having to do with churn from exercises\n",
    "-Do MVP\n",
    "\n",
    "\"\"\""
   ]
  }
 ],
 "metadata": {
  "kernelspec": {
   "display_name": "Python 3 (ipykernel)",
   "language": "python",
   "name": "python3"
  },
  "language_info": {
   "codemirror_mode": {
    "name": "ipython",
    "version": 3
   },
   "file_extension": ".py",
   "mimetype": "text/x-python",
   "name": "python",
   "nbconvert_exporter": "python",
   "pygments_lexer": "ipython3",
   "version": "3.9.13"
  }
 },
 "nbformat": 4,
 "nbformat_minor": 5
}
